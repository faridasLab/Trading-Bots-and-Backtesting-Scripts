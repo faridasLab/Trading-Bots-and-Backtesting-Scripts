{
 "cells": [
  {
   "cell_type": "markdown",
   "id": "481a5c9e",
   "metadata": {},
   "source": [
    "### STRATEGY\n",
    "\n",
    "**ENTRY:** If candle closes as green and ichimoku conversion line crosses above base line, wait and *BUY* at the close of second candle.\n",
    "\n",
    "\n",
    "**TAKE PROFIT:** Sell at the first closing where profit is more than 0.01%\n",
    "\n",
    "\n",
    "**STOP LOSS:** You have the option to put a stop loss when ichimoku conversion line crosses below base line.\n",
    "\n",
    "\n",
    "**Time frame:** 15 Minute\n"
   ]
  },
  {
   "cell_type": "code",
   "execution_count": 1,
   "id": "5bb76077",
   "metadata": {},
   "outputs": [],
   "source": [
    "import pandas as pd\n",
    "import numpy as np\n",
    "from ta.trend import IchimokuIndicator\n",
    "from binance.client import Client\n",
    "from datetime import datetime as dt\n",
    "from matplotlib import pyplot as plt \n",
    "plt.style.use('seaborn')"
   ]
  },
  {
   "cell_type": "code",
   "execution_count": 2,
   "id": "a1f55257",
   "metadata": {},
   "outputs": [],
   "source": [
    "def get_data(symbol, start_date, end_date):\n",
    "    interval = Client.KLINE_INTERVAL_15MINUTE\n",
    "    API_KEY='YOUR_API_KEYS'\n",
    "    API_SECRET='YOUR_SECRET_KEYS'\n",
    "\n",
    "    client = Client(API_KEY,API_SECRET)\n",
    "    candlesticks = client.get_historical_klines(symbol, interval, start_date, end_date)\n",
    "\n",
    "    df = pd.DataFrame(candlesticks)\n",
    "    df=df[[0,1,2,3,4]]\n",
    "    df[0] = pd.to_datetime(df[0]/1000,unit='s')\n",
    "    df[[1,2,3,4]] = df[[1,2,3,4]].apply(pd.to_numeric)\n",
    "    \n",
    "    ichimoku = IchimokuIndicator(high=df[2], low=df[3], window1=9, window2=26, window3=52)\n",
    "    ichimoku_base = ichimoku.ichimoku_base_line()\n",
    "    ichimoku_conversion = ichimoku.ichimoku_conversion_line()\n",
    "\n",
    "    df['ichimoku_base'] = ichimoku_base\n",
    "    df['ichimoku_conversion'] = ichimoku_conversion\n",
    "    df = df[df['ichimoku_base'].notna()]\n",
    "    return df\n",
    "    "
   ]
  },
  {
   "cell_type": "code",
   "execution_count": null,
   "id": "d5f321f4",
   "metadata": {},
   "outputs": [],
   "source": [
    "df = get_data('BTCUSDT', '1 Sep, 2017','31 Mar, 2022')"
   ]
  },
  {
   "cell_type": "code",
   "execution_count": null,
   "id": "7af85b3c",
   "metadata": {},
   "outputs": [],
   "source": [
    "def backtest(df,min_take_profit, stop_loss):\n",
    "    position = False\n",
    "    profit = []\n",
    "    exit_date = []\n",
    "    entry_date = []\n",
    "    \n",
    "    # Get Entry Points \n",
    "    df[\"position\"] = np.nan\n",
    "    df.loc[(df[4].shift(1) > df[1].shift(1)) & \n",
    "       (df[\"ichimoku_base\"] < df[\"ichimoku_conversion\"])&\n",
    "       (df[\"ichimoku_base\"].shift(1) < df[\"ichimoku_conversion\"].shift(1))&\n",
    "       (df[\"ichimoku_base\"].shift(2) > df[\"ichimoku_conversion\"].shift(2)), \"position\"] = 1\n",
    "\n",
    "    for row in df.itertuples(index=False):\n",
    "        if row.position ==1 and not position:\n",
    "            entry_price = row[4]\n",
    "            position = True\n",
    "\n",
    "        elif position:\n",
    "            if (row[4] - entry_price) * 100 / entry_price > min_take_profit or (stop_loss and row.ichimoku_base > row.ichimoku_conversion):\n",
    "                profit.append((row[4] - entry_price) * 100 / entry_price)\n",
    "                exit_date.append(row[0])\n",
    "                position = False\n",
    "    \n",
    "    total_profit = sum(profit)\n",
    "    profit=np.array(profit)\n",
    "    winners = len(profit[profit > 0])\n",
    "    losers = len(profit[profit < 0])\n",
    "    cumulative_returns = np.add.accumulate(profit)\n",
    "    win_rate = round(winners*100/(winners+losers),2)\n",
    "    return total_profit, win_rate, winners, losers, cumulative_returns, exit_date\n"
   ]
  },
  {
   "cell_type": "code",
   "execution_count": null,
   "id": "32fafeed",
   "metadata": {},
   "outputs": [],
   "source": [
    "# Without Stop Loss, take minimum 0.01% Profit\n",
    "total_profit, win_rate, winners, losers, cumulative_returns, exit_date = backtest(df,0.01,False)\n",
    "\n",
    "# Plot\n",
    "plt.title(f\"Cumulative Returns Without Stop Loss\") \n",
    "plt.xlabel(\"Date\")\n",
    "plt.ylabel(\"Profit\") \n",
    "plt.rcParams[\"figure.figsize\"] = [11,6]\n",
    "text = f'Total Profit: {round(total_profit,2)}%\\nWinners: {winners}\\nLosers:{losers}\\nWin Rate: {round(winners*100/(winners+losers),2)}%'\n",
    "plt.plot(exit_date,cumulative_returns)\n",
    "plt.show()\n",
    "print(text)"
   ]
  },
  {
   "cell_type": "code",
   "execution_count": null,
   "id": "f652bbac",
   "metadata": {},
   "outputs": [],
   "source": [
    "# With Stop Loss, take minimum 0.01% Profit\n",
    "total_profit2, win_rate2, winners2, losers2, cumulative_returns2, exit_date2 = backtest(df,0.01,True)\n",
    "\n",
    "# Plot\n",
    "plt.title(f\"Cumulative Returns With Stop Loss\") \n",
    "plt.xlabel(\"Date\")\n",
    "plt.ylabel(\"Profit\") \n",
    "plt.rcParams[\"figure.figsize\"] = [11,6]\n",
    "text = f'Total Profit: {round(total_profit2,2)}%\\nWinners: {winners2}\\nLosers:{losers2}\\nWin Rate: {round(win_rate2,2)}%'\n",
    "plt.plot(exit_date2,cumulative_returns2)\n",
    "plt.show()\n",
    "print(text)"
   ]
  },
  {
   "cell_type": "code",
   "execution_count": null,
   "id": "76b67526",
   "metadata": {},
   "outputs": [],
   "source": []
  },
  {
   "cell_type": "code",
   "execution_count": null,
   "id": "af6a2afb",
   "metadata": {},
   "outputs": [],
   "source": []
  }
 ],
 "metadata": {
  "kernelspec": {
   "display_name": "Python 3 (ipykernel)",
   "language": "python",
   "name": "python3"
  },
  "language_info": {
   "codemirror_mode": {
    "name": "ipython",
    "version": 3
   },
   "file_extension": ".py",
   "mimetype": "text/x-python",
   "name": "python",
   "nbconvert_exporter": "python",
   "pygments_lexer": "ipython3",
   "version": "3.10.1"
  }
 },
 "nbformat": 4,
 "nbformat_minor": 5
}
