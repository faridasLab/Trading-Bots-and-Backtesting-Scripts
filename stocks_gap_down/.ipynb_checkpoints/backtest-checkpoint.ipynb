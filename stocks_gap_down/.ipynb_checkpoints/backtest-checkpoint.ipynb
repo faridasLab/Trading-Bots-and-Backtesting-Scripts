{
 "cells": [
  {
   "cell_type": "markdown",
   "id": "e9e2b9c1",
   "metadata": {},
   "source": [
    "### Strategy\n",
    "***Entry:***\n",
    "To enter a trade, stock needs to gap down and be below the low of the previous day when it opens.\n",
    "\n",
    "***Taking Profits:***\n",
    "Take profit on the first profitable openining. This means wait to sell until the stock has actually opened higher than the latest entry.\n",
    "\n",
    "\n",
    "***Stop Losses:***\n",
    "You have the option to put in a stop-loss order to prevent losses.\n"
   ]
  },
  {
   "cell_type": "code",
   "execution_count": 5,
   "id": "4e22d92b",
   "metadata": {},
   "outputs": [],
   "source": [
    "import numpy as np\n",
    "import pandas as pd\n",
    "import yfinance as yf\n",
    "from matplotlib import pyplot as plt \n",
    "plt.style.use('seaborn')"
   ]
  },
  {
   "cell_type": "code",
   "execution_count": null,
   "id": "eed7b668",
   "metadata": {},
   "outputs": [],
   "source": [
    "#### GET DATA ####\n",
    "TICKER = \"NVDA\"\n",
    "\n",
    "df = yf.download(TICKER, \n",
    "                 start=\"2019-01-01\", \n",
    "                 end=\"2022-01-01\", \n",
    "                 auto_adjust=True)\n"
   ]
  },
  {
   "cell_type": "code",
   "execution_count": null,
   "id": "bd1869b2",
   "metadata": {},
   "outputs": [],
   "source": [
    "def backtest(df,stop_loss=20):\n",
    "    i = 0\n",
    "    in_position = False\n",
    "\n",
    "    entry_price = 0\n",
    "    exit_dates = []\n",
    "    profits = []\n",
    "    winners = 0\n",
    "    losers = 0\n",
    "    for _ in df.itertuples(index=False):\n",
    "        i += 1\n",
    "        if i < len(df.index):\n",
    "            \n",
    "            # If not in position - Check for Entry \n",
    "            if not in_position:\n",
    "                if df['Low'][i-1] > df['Open'][i]:\n",
    "                    entry_price = df['Open'][i]\n",
    "                    in_position=True\n",
    "                    \n",
    "            # If in position - Check for Take Profit or Stop Loss\n",
    "            elif in_position:\n",
    "                if df['Open'][i] > entry_price or df['Low'][i] <= entry_price - entry_price*stop_loss/100:\n",
    "                    profit = ((df['Open'][i] - entry_price) * 100) / entry_price\n",
    "                    profits.append(profit)\n",
    "                    exit_dates.append(df.index[i])\n",
    "                    in_position=False\n",
    "                    \n",
    "    return np.array(profits),np.array(exit_dates),sum(profits)\n",
    "                \n",
    "        "
   ]
  },
  {
   "cell_type": "code",
   "execution_count": null,
   "id": "d9fb7bac",
   "metadata": {},
   "outputs": [],
   "source": []
  },
  {
   "cell_type": "code",
   "execution_count": null,
   "id": "1579a51c",
   "metadata": {},
   "outputs": [],
   "source": [
    "# Calculate\n",
    "profits,exit_dates, total_profit = backtest(df)\n",
    "winners = len(profits[profits > 0])\n",
    "losers = len(profits[profits < 0])\n",
    "cumulative_returns = np.add.accumulate(profits)\n",
    "\n",
    "# Plot\n",
    "plt.title(f\"Gap Down Strategy's Cumulative Returns for {TICKER}\") \n",
    "plt.xlabel(\"Date\")\n",
    "plt.ylabel(\"Profit\") \n",
    "plt.rcParams[\"figure.figsize\"] = [11,6]\n",
    "text = f'Total Profit: {round(total_profit,2)}%\\nWinners: {winners}\\nLosers:{losers}\\nWin Rate: {round(winners*100/(winners+losers),2)}%'\n",
    "plt.plot(exit_dates,cumulative_returns)\n",
    "plt.show()\n",
    "print(text)"
   ]
  },
  {
   "cell_type": "code",
   "execution_count": null,
   "id": "5c2aa37f",
   "metadata": {},
   "outputs": [],
   "source": [
    "#Calculate and plot Buy and Hold Returns for the same period\n",
    "\n",
    "buy_and_hold_total_return = ((df[\"Close\"][len(df.index)-1] - df[\"Close\"][0]) * 100) / df[\"Close\"][0]\n",
    "df[\"return\"] = (df['Close'] - df['Close'][0])*100 / df['Close'][0]\n",
    "\n",
    "returns = df['return'].to_numpy()\n",
    "\n",
    "plt.xlabel(\"Date\")\n",
    "plt.ylabel(\"Profit\") \n",
    "\n",
    "plt.rcParams[\"figure.figsize\"] = [11,6]\n",
    "plt.title(\"Buy and Hold's Cumulative Returns\") \n",
    "\n",
    "plt.plot(df.index,returns)\n",
    "plt.show()\n",
    "\n",
    "text = f'Buy and Hold Total Profit: {round(buy_and_hold_total_return,2)}%'\n",
    "print(text)"
   ]
  },
  {
   "cell_type": "code",
   "execution_count": 4,
   "id": "59676cc1",
   "metadata": {},
   "outputs": [
    {
     "ename": "NameError",
     "evalue": "name 'plt' is not defined",
     "output_type": "error",
     "traceback": [
      "\u001b[1;31m---------------------------------------------------------------------------\u001b[0m",
      "\u001b[1;31mNameError\u001b[0m                                 Traceback (most recent call last)",
      "Input \u001b[1;32mIn [4]\u001b[0m, in \u001b[0;36m<cell line: 1>\u001b[1;34m()\u001b[0m\n\u001b[1;32m----> 1\u001b[0m \u001b[43mplt\u001b[49m\u001b[38;5;241m.\u001b[39mrcParams[\u001b[38;5;124m\"\u001b[39m\u001b[38;5;124mfigure.figsize\u001b[39m\u001b[38;5;124m\"\u001b[39m] \u001b[38;5;241m=\u001b[39m [\u001b[38;5;241m5\u001b[39m, \u001b[38;5;241m7\u001b[39m]\n\u001b[0;32m      2\u001b[0m plt\u001b[38;5;241m.\u001b[39mrcParams[\u001b[38;5;124m\"\u001b[39m\u001b[38;5;124mfigure.autolayout\u001b[39m\u001b[38;5;124m\"\u001b[39m] \u001b[38;5;241m=\u001b[39m \u001b[38;5;28;01mTrue\u001b[39;00m\n\u001b[0;32m      4\u001b[0m data \u001b[38;5;241m=\u001b[39m {\u001b[38;5;124m'\u001b[39m\u001b[38;5;124mBuy and Sell Total Return\u001b[39m\u001b[38;5;124m'\u001b[39m: total_profit, \u001b[38;5;124m'\u001b[39m\u001b[38;5;124mBuy and Hold Total Return\u001b[39m\u001b[38;5;124m'\u001b[39m: buy_and_hold_total_return}\n",
      "\u001b[1;31mNameError\u001b[0m: name 'plt' is not defined"
     ]
    }
   ],
   "source": [
    "\n",
    "plt.rcParams[\"figure.figsize\"] = [5, 7]\n",
    "plt.rcParams[\"figure.autolayout\"] = True\n",
    "\n",
    "data = {'Buy and Sell Total Return': total_profit, 'Buy and Hold Total Return': buy_and_hold_total_return}\n",
    "names = list(data.keys())\n",
    "values = list(data.values())\n",
    "\n",
    "plt.bar(names, values)\n",
    "\n",
    "plt.show()\n"
   ]
  },
  {
   "cell_type": "code",
   "execution_count": null,
   "id": "8dea281c",
   "metadata": {},
   "outputs": [],
   "source": []
  },
  {
   "cell_type": "code",
   "execution_count": null,
   "id": "ffe61af5",
   "metadata": {},
   "outputs": [],
   "source": []
  }
 ],
 "metadata": {
  "kernelspec": {
   "display_name": "Python 3 (ipykernel)",
   "language": "python",
   "name": "python3"
  },
  "language_info": {
   "codemirror_mode": {
    "name": "ipython",
    "version": 3
   },
   "file_extension": ".py",
   "mimetype": "text/x-python",
   "name": "python",
   "nbconvert_exporter": "python",
   "pygments_lexer": "ipython3",
   "version": "3.10.1"
  }
 },
 "nbformat": 4,
 "nbformat_minor": 5
}
